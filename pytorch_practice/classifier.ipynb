{
 "cells": [
  {
   "cell_type": "code",
   "execution_count": 1,
   "metadata": {},
   "outputs": [],
   "source": [
    "import torch\n",
    "import torchvision\n",
    "import torchvision.transforms as transforms"
   ]
  },
  {
   "cell_type": "code",
   "execution_count": 2,
   "metadata": {},
   "outputs": [
    {
     "name": "stdout",
     "output_type": "stream",
     "text": [
      "Files already downloaded and verified\n",
      "Files already downloaded and verified\n"
     ]
    }
   ],
   "source": [
    "transform = transforms.Compose(\n",
    "    [transforms.ToTensor(),\n",
    "     transforms.Normalize((0.5, 0.5, 0.5), (0.5, 0.5, 0.5))])\n",
    "\n",
    "batch_size = 4\n",
    "\n",
    "trainset = torchvision.datasets.CIFAR10(root='./data', train=True,\n",
    "                                        download=True, transform=transform)\n",
    "trainloader = torch.utils.data.DataLoader(trainset, batch_size=batch_size,\n",
    "                                          shuffle=True, num_workers=2)\n",
    "\n",
    "testset = torchvision.datasets.CIFAR10(root='./data', train=False,\n",
    "                                       download=True, transform=transform)\n",
    "testloader = torch.utils.data.DataLoader(testset, batch_size=batch_size,\n",
    "                                         shuffle=False, num_workers=2)\n",
    "\n",
    "classes = ('plane', 'car', 'bird', 'cat',\n",
    "           'deer', 'dog', 'frog', 'horse', 'ship', 'truck')"
   ]
  },
  {
   "cell_type": "code",
   "execution_count": 3,
   "metadata": {},
   "outputs": [
    {
     "name": "stdout",
     "output_type": "stream",
     "text": [
      "cuda:0\n"
     ]
    }
   ],
   "source": [
    "device = torch.device('cuda:0' if torch.cuda.is_available() else 'cpu')\n",
    "\n",
    "# Assuming that we are on a CUDA machine, this should print a CUDA device:\n",
    "\n",
    "print(device)"
   ]
  },
  {
   "cell_type": "code",
   "execution_count": 4,
   "metadata": {},
   "outputs": [
    {
     "data": {
      "image/png": "[encoded data removed]",
      "text/plain": [
       "<Figure size 640x480 with 1 Axes>"
      ]
     },
     "metadata": {},
     "output_type": "display_data"
    },
    {
     "name": "stdout",
     "output_type": "stream",
     "text": [
      "truck plane ship  deer \n"
     ]
    }
   ],
   "source": [
    "import matplotlib.pyplot as plt\n",
    "import numpy as np\n",
    "\n",
    "# functions to show an image\n",
    "\n",
    "\n",
    "def imshow(img):\n",
    "    img = img / 2 + 0.5     # unnormalize\n",
    "    npimg = img.numpy()\n",
    "    plt.imshow(np.transpose(npimg, (1, 2, 0)))\n",
    "    plt.show()\n",
    "\n",
    "\n",
    "# get some random training images\n",
    "dataiter = iter(trainloader)\n",
    "images, labels = next(dataiter)\n",
    "\n",
    "# show images\n",
    "imshow(torchvision.utils.make_grid(images))\n",
    "# print labels\n",
    "print(' '.join(f'{classes[labels[j]]:5s}' for j in range(batch_size)))"
   ]
  },
  {
   "cell_type": "code",
   "execution_count": 5,
   "metadata": {},
   "outputs": [
    {
     "data": {
      "text/plain": [
       "Net(\n",
       "  (conv1): Conv2d(3, 6, kernel_size=(5, 5), stride=(1, 1))\n",
       "  (pool): MaxPool2d(kernel_size=2, stride=2, padding=0, dilation=1, ceil_mode=False)\n",
       "  (conv2): Conv2d(6, 16, kernel_size=(5, 5), stride=(1, 1))\n",
       "  (fc1): Linear(in_features=400, out_features=120, bias=True)\n",
       "  (fc2): Linear(in_features=120, out_features=84, bias=True)\n",
       "  (fc3): Linear(in_features=84, out_features=10, bias=True)\n",
       ")"
      ]
     },
     "execution_count": 5,
     "metadata": {},
     "output_type": "execute_result"
    }
   ],
   "source": [
    "import torch.nn as nn\n",
    "import torch.nn.functional as F\n",
    "\n",
    "\n",
    "class Net(nn.Module):\n",
    "    def __init__(self):\n",
    "        super().__init__()\n",
    "        self.conv1 = nn.Conv2d(3, 6, 5)\n",
    "        self.pool = nn.MaxPool2d(2, 2)\n",
    "        self.conv2 = nn.Conv2d(6, 16, 5)\n",
    "        self.fc1 = nn.Linear(16 * 5 * 5, 120)\n",
    "        self.fc2 = nn.Linear(120, 84)\n",
    "        self.fc3 = nn.Linear(84, 10)\n",
    "\n",
    "    def forward(self, x):\n",
    "        x = self.pool(F.relu(self.conv1(x)))\n",
    "        x = self.pool(F.relu(self.conv2(x)))\n",
    "        x = torch.flatten(x, 1) # flatten all dimensions except batch\n",
    "        x = F.relu(self.fc1(x))\n",
    "        x = F.relu(self.fc2(x))\n",
    "        x = self.fc3(x)\n",
    "        return x\n",
    "\n",
    "\n",
    "net = Net()\n",
    "net.to(device)"
   ]
  },
  {
   "cell_type": "code",
   "execution_count": 6,
   "metadata": {},
   "outputs": [],
   "source": [
    "import torch.optim as optim\n",
    "\n",
    "criterion = nn.CrossEntropyLoss()\n",
    "optimizer = optim.SGD(net.parameters(), lr=0.001, momentum=0.9)"
   ]
  },
  {
   "cell_type": "code",
   "execution_count": 8,
   "metadata": {},
   "outputs": [
    {
     "name": "stdout",
     "output_type": "stream",
     "text": [
      "running loss: 2731.836093008518\n",
      "[1,  2000] loss: 1.366\n",
      "running loss: 2650.66091363132\n",
      "[1,  4000] loss: 1.325\n",
      "running loss: 2605.3889947533607\n",
      "[1,  6000] loss: 1.303\n",
      "running loss: 2555.807250663638\n",
      "[1,  8000] loss: 1.278\n",
      "running loss: 2540.271127447486\n",
      "[1, 10000] loss: 1.270\n",
      "running loss: 2480.5660373419523\n",
      "[1, 12000] loss: 1.240\n",
      "running loss: 2363.5359920337796\n",
      "[2,  2000] loss: 1.182\n",
      "running loss: 2318.6040491834283\n",
      "[2,  4000] loss: 1.159\n",
      "running loss: 2334.243801917881\n",
      "[2,  6000] loss: 1.167\n",
      "running loss: 2300.071534562856\n",
      "[2,  8000] loss: 1.150\n",
      "running loss: 2271.952289607376\n",
      "[2, 10000] loss: 1.136\n",
      "running loss: 2311.9390147402883\n",
      "[2, 12000] loss: 1.156\n",
      "running loss: 2119.0108475908637\n",
      "[3,  2000] loss: 1.060\n",
      "running loss: 2139.792370436713\n",
      "[3,  4000] loss: 1.070\n",
      "running loss: 2149.8344891611487\n",
      "[3,  6000] loss: 1.075\n",
      "running loss: 2120.0217742472887\n",
      "[3,  8000] loss: 1.060\n",
      "running loss: 2181.298984877765\n",
      "[3, 10000] loss: 1.091\n",
      "running loss: 2142.064225533977\n",
      "[3, 12000] loss: 1.071\n",
      "running loss: 1972.057085818611\n",
      "[4,  2000] loss: 0.986\n",
      "running loss: 1967.8775486908853\n",
      "[4,  4000] loss: 0.984\n",
      "running loss: 2017.5371833536774\n",
      "[4,  6000] loss: 1.009\n",
      "running loss: 2011.470331499353\n",
      "[4,  8000] loss: 1.006\n",
      "running loss: 2012.5782285202295\n",
      "[4, 10000] loss: 1.006\n",
      "running loss: 2064.6503615304828\n",
      "[4, 12000] loss: 1.032\n",
      "running loss: 1830.2245870865881\n",
      "[5,  2000] loss: 0.915\n",
      "running loss: 1877.2889050627127\n",
      "[5,  4000] loss: 0.939\n",
      "running loss: 1917.7020157524385\n",
      "[5,  6000] loss: 0.959\n",
      "running loss: 1944.6423467304558\n",
      "[5,  8000] loss: 0.972\n",
      "running loss: 1932.1225592941046\n",
      "[5, 10000] loss: 0.966\n",
      "running loss: 1945.8956154379994\n",
      "[5, 12000] loss: 0.973\n",
      "running loss: 1722.612808343023\n",
      "[6,  2000] loss: 0.861\n",
      "running loss: 1766.1040257452987\n",
      "[6,  4000] loss: 0.883\n",
      "running loss: 1877.118414433673\n",
      "[6,  6000] loss: 0.939\n",
      "running loss: 1846.2584706558846\n",
      "[6,  8000] loss: 0.923\n",
      "running loss: 1865.6750403558835\n",
      "[6, 10000] loss: 0.933\n",
      "running loss: 1876.0557789746672\n",
      "[6, 12000] loss: 0.938\n",
      "running loss: 1685.716189963743\n",
      "[7,  2000] loss: 0.843\n",
      "running loss: 1712.4962859586813\n",
      "[7,  4000] loss: 0.856\n",
      "running loss: 1753.0985595006496\n",
      "[7,  6000] loss: 0.877\n",
      "running loss: 1756.2400983865373\n",
      "[7,  8000] loss: 0.878\n",
      "running loss: 1774.8692078106105\n",
      "[7, 10000] loss: 0.887\n",
      "running loss: 1826.1961283599958\n",
      "[7, 12000] loss: 0.913\n",
      "running loss: 1590.7310114544816\n",
      "[8,  2000] loss: 0.795\n",
      "running loss: 1645.9203760079108\n",
      "[8,  4000] loss: 0.823\n",
      "running loss: 1664.7769664390944\n",
      "[8,  6000] loss: 0.832\n",
      "running loss: 1723.3444567839615\n",
      "[8,  8000] loss: 0.862\n",
      "running loss: 1705.6774338650284\n",
      "[8, 10000] loss: 0.853\n",
      "running loss: 1750.87699835893\n",
      "[8, 12000] loss: 0.875\n",
      "running loss: 1532.8450338751718\n",
      "[9,  2000] loss: 0.766\n",
      "running loss: 1575.7800073535182\n",
      "[9,  4000] loss: 0.788\n",
      "running loss: 1610.0218928440008\n",
      "[9,  6000] loss: 0.805\n",
      "running loss: 1654.371577673126\n",
      "[9,  8000] loss: 0.827\n",
      "running loss: 1661.4850561935455\n",
      "[9, 10000] loss: 0.831\n",
      "running loss: 1687.143796265591\n",
      "[9, 12000] loss: 0.844\n",
      "running loss: 1473.0227889374364\n",
      "[10,  2000] loss: 0.737\n",
      "running loss: 1528.728193048737\n",
      "[10,  4000] loss: 0.764\n",
      "running loss: 1540.9236196125858\n",
      "[10,  6000] loss: 0.770\n",
      "running loss: 1627.2963372422382\n",
      "[10,  8000] loss: 0.814\n",
      "running loss: 1593.6163867058349\n",
      "[10, 10000] loss: 0.797\n",
      "running loss: 1654.4627381609753\n",
      "[10, 12000] loss: 0.827\n",
      "Finished Training\n"
     ]
    }
   ],
   "source": [
    "for epoch in range(10):  # loop over the dataset multiple times\n",
    "\n",
    "    running_loss = 0.0\n",
    "    for i, data in enumerate(trainloader, 0):\n",
    "        # get the inputs; data is a list of [inputs, labels]\n",
    "        inputs, labels = data[0].to(device), data[1].to(device)\n",
    "\n",
    "        # zero the parameter gradients\n",
    "        optimizer.zero_grad()\n",
    "\n",
    "        # forward + backward + optimize\n",
    "        outputs = net(inputs)\n",
    "        loss = criterion(outputs, labels)\n",
    "        loss.backward()\n",
    "        optimizer.step()\n",
    "\n",
    "        # print statistics\n",
    "        running_loss += loss.item()\n",
    "        if i % 2000 == 1999:    # print every 2000 mini-batches\n",
    "            print(f'running loss: {running_loss}')\n",
    "            print(f'[{epoch + 1}, {i + 1:5d}] loss: {running_loss / 2000:.3f}')\n",
    "            running_loss = 0.0\n",
    "\n",
    "print('Finished Training')"
   ]
  },
  {
   "cell_type": "code",
   "execution_count": null,
   "metadata": {},
   "outputs": [],
   "source": [
    "PATH = './cifar_net.pth'\n",
    "torch.save(net.state_dict(), PATH)"
   ]
  },
  {
   "cell_type": "code",
   "execution_count": null,
   "metadata": {},
   "outputs": [
    {
     "data": {
      "image/png": "[encoded data removed]",
      "text/plain": [
       "<Figure size 640x480 with 1 Axes>"
      ]
     },
     "metadata": {},
     "output_type": "display_data"
    },
    {
     "name": "stdout",
     "output_type": "stream",
     "text": [
      "GroundTruth:  cat   ship  ship  plane\n"
     ]
    }
   ],
   "source": [
    "dataiter = iter(testloader)\n",
    "images, labels = next(dataiter)\n",
    "\n",
    "# print images\n",
    "imshow(torchvision.utils.make_grid(images))\n",
    "print('GroundTruth: ', ' '.join(f'{classes[labels[j]]:5s}' for j in range(4)))"
   ]
  },
  {
   "cell_type": "code",
   "execution_count": null,
   "metadata": {},
   "outputs": [
    {
     "data": {
      "text/plain": [
       "<All keys matched successfully>"
      ]
     },
     "execution_count": 12,
     "metadata": {},
     "output_type": "execute_result"
    }
   ],
   "source": [
    "net = Net()\n",
    "net.load_state_dict(torch.load(PATH))"
   ]
  },
  {
   "cell_type": "code",
   "execution_count": null,
   "metadata": {},
   "outputs": [],
   "source": [
    "outputs = net(images)"
   ]
  },
  {
   "cell_type": "code",
   "execution_count": null,
   "metadata": {},
   "outputs": [
    {
     "name": "stdout",
     "output_type": "stream",
     "text": [
      "Predicted:  cat   ship  plane plane\n"
     ]
    }
   ],
   "source": [
    "_, predicted = torch.max(outputs, 1)\n",
    "\n",
    "print('Predicted: ', ' '.join(f'{classes[predicted[j]]:5s}'\n",
    "                              for j in range(4)))"
   ]
  },
  {
   "cell_type": "code",
   "execution_count": null,
   "metadata": {},
   "outputs": [
    {
     "name": "stdout",
     "output_type": "stream",
     "text": [
      "Accuracy of the network on the 10000 test images: 62 %\n"
     ]
    }
   ],
   "source": [
    "correct = 0\n",
    "total = 0\n",
    "# since we're not training, we don't need to calculate the gradients for our outputs\n",
    "with torch.no_grad():\n",
    "    for data in testloader:\n",
    "        images, labels = data\n",
    "        # inputs, labels = data[0].to(device), data[1].to(device)\n",
    "        # calculate outputs by running images through the network\n",
    "        outputs = net(images)\n",
    "        # the class with the highest energy is what we choose as prediction\n",
    "        _, predicted = torch.max(outputs.data, 1)\n",
    "        # predicted = predicted.to(device)\n",
    "        total += labels.size(0)\n",
    "        correct += (predicted == labels).sum().item()\n",
    "\n",
    "print(f'Accuracy of the network on the 10000 test images: {100 * correct // total} %')"
   ]
  },
  {
   "cell_type": "code",
   "execution_count": null,
   "metadata": {},
   "outputs": [
    {
     "name": "stdout",
     "output_type": "stream",
     "text": [
      "Accuracy for class: plane is 65.5 %\n",
      "Accuracy for class: car   is 75.5 %\n",
      "Accuracy for class: bird  is 54.1 %\n",
      "Accuracy for class: cat   is 41.3 %\n",
      "Accuracy for class: deer  is 47.2 %\n",
      "Accuracy for class: dog   is 58.9 %\n",
      "Accuracy for class: frog  is 73.4 %\n",
      "Accuracy for class: horse is 66.4 %\n",
      "Accuracy for class: ship  is 73.3 %\n",
      "Accuracy for class: truck is 72.8 %\n"
     ]
    }
   ],
   "source": [
    "# prepare to count predictions for each class\n",
    "correct_pred = {classname: 0 for classname in classes}\n",
    "total_pred = {classname: 0 for classname in classes}\n",
    "\n",
    "# again no gradients needed\n",
    "with torch.no_grad():\n",
    "    for data in testloader:\n",
    "        images, labels = data\n",
    "        outputs = net(images)\n",
    "        _, predictions = torch.max(outputs, 1)\n",
    "        # collect the correct predictions for each class\n",
    "        for label, prediction in zip(labels, predictions):\n",
    "            if label == prediction:\n",
    "                correct_pred[classes[label]] += 1\n",
    "            total_pred[classes[label]] += 1\n",
    "\n",
    "\n",
    "# print accuracy for each class\n",
    "for classname, correct_count in correct_pred.items():\n",
    "    accuracy = 100 * float(correct_count) / total_pred[classname]\n",
    "    print(f'Accuracy for class: {classname:5s} is {accuracy:.1f} %')"
   ]
  },
  {
   "cell_type": "code",
   "execution_count": null,
   "metadata": {},
   "outputs": [],
   "source": []
  },
  {
   "cell_type": "code",
   "execution_count": null,
   "metadata": {},
   "outputs": [],
   "source": []
  }
 ],
 "metadata": {
  "kernelspec": {
   "display_name": "Python 3",
   "language": "python",
   "name": "python3"
  },
  "language_info": {
   "codemirror_mode": {
    "name": "ipython",
    "version": 3
   },
   "file_extension": ".py",
   "mimetype": "text/x-python",
   "name": "python",
   "nbconvert_exporter": "python",
   "pygments_lexer": "ipython3",
   "version": "3.9.13"
  }
 },
 "nbformat": 4,
 "nbformat_minor": 2
}
