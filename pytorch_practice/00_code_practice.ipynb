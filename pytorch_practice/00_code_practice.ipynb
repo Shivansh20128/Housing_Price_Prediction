{
 "cells": [
  {
   "cell_type": "code",
   "execution_count": 1,
   "metadata": {},
   "outputs": [],
   "source": [
    "import torch"
   ]
  },
  {
   "cell_type": "markdown",
   "metadata": {},
   "source": [
    "This file contains the practice questons for the module 00_code.ipynv file."
   ]
  },
  {
   "cell_type": "code",
   "execution_count": 2,
   "metadata": {},
   "outputs": [
    {
     "data": {
      "text/plain": [
       "tensor([[0.7775, 0.0707, 0.9594, 0.8068, 0.4378, 0.0387, 0.0612],\n",
       "        [0.1888, 0.8856, 0.5352, 0.2416, 0.1383, 0.8527, 0.6977],\n",
       "        [0.4292, 0.8430, 0.5780, 0.5483, 0.1656, 0.8948, 0.0287],\n",
       "        [0.5705, 0.6106, 0.3098, 0.9970, 0.4590, 0.0592, 0.1453],\n",
       "        [0.7869, 0.1370, 0.7497, 0.2609, 0.5289, 0.1125, 0.1297],\n",
       "        [0.3974, 0.4926, 0.6531, 0.4016, 0.7262, 0.4134, 0.0441],\n",
       "        [0.7529, 0.7117, 0.3293, 0.7276, 0.5436, 0.6811, 0.0355]])"
      ]
     },
     "execution_count": 2,
     "metadata": {},
     "output_type": "execute_result"
    }
   ],
   "source": [
    "# 2. Create a random tensor with shape (7, 7).\n",
    "tensor1 = torch.rand(7,7)\n",
    "tensor1"
   ]
  },
  {
   "cell_type": "code",
   "execution_count": 3,
   "metadata": {},
   "outputs": [
    {
     "data": {
      "text/plain": [
       "tensor([[2.1478],\n",
       "        [2.2225],\n",
       "        [2.5062],\n",
       "        [1.7527],\n",
       "        [1.8389],\n",
       "        [1.8881],\n",
       "        [2.4271]])"
      ]
     },
     "execution_count": 3,
     "metadata": {},
     "output_type": "execute_result"
    }
   ],
   "source": [
    "# 3. Perform a matrix multiplication on the tensor1 with another random tensor with shape (1, 7) (hint: you may have to transpose the second tensor).\n",
    "\n",
    "tensor2 = torch.rand(1,7)\n",
    "tensor2_transpose = tensor2.T\n",
    "\n",
    "mat_mul_result = torch.matmul(tensor1, tensor2_transpose)\n",
    "mat_mul_result"
   ]
  },
  {
   "cell_type": "code",
   "execution_count": 6,
   "metadata": {},
   "outputs": [
    {
     "data": {
      "text/plain": [
       "tensor([[1.5985],\n",
       "        [1.1173],\n",
       "        [1.2741],\n",
       "        [1.6838],\n",
       "        [0.8279],\n",
       "        [1.0347],\n",
       "        [1.2498]])"
      ]
     },
     "execution_count": 6,
     "metadata": {},
     "output_type": "execute_result"
    }
   ],
   "source": [
    "# 4. Set the random seed to 0 and do exercises 2 & 3 over again\n",
    "torch.manual_seed(0)\n",
    "tensor1 = torch.rand(7,7)\n",
    "\n",
    "torch.manual_seed(0)\n",
    "tensor2 = torch.rand(1,7)\n",
    "\n",
    "tensor2_transpose = tensor2.T\n",
    "\n",
    "mat_mul_result = torch.matmul(tensor1, tensor2_transpose)\n",
    "mat_mul_result"
   ]
  },
  {
   "cell_type": "code",
   "execution_count": 7,
   "metadata": {},
   "outputs": [],
   "source": [
    "# 5. Speaking of random seeds, we saw how to set it with torch.manual_seed() but is there a GPU equivalent? (hint: you'll need to look into the documentation for torch.cuda for this one). If there is, set the GPU random seed to 1234.\n",
    "torch.cuda.manual_seed(1234)"
   ]
  },
  {
   "cell_type": "code",
   "execution_count": 15,
   "metadata": {},
   "outputs": [],
   "source": [
    "# 6. Create two random tensors of shape (2, 3) and send them both to the GPU (you'll need access to a GPU for this). Set torch.manual_seed(1234) when creating the tensors (this doesn't have to be the GPU random seed).\n",
    "torch.cuda.manual_seed(1234)\n",
    "tensor3 = torch.rand(2,3).to(\"cuda\")\n",
    "torch.cuda.manual_seed(1234)\n",
    "tensor4 = torch.rand(2,3).to(\"cuda\")"
   ]
  },
  {
   "cell_type": "code",
   "execution_count": 16,
   "metadata": {},
   "outputs": [
    {
     "data": {
      "text/plain": [
       "tensor([[0.8576, 0.2788],\n",
       "        [1.1655, 0.5516]], device='cuda:0')"
      ]
     },
     "execution_count": 16,
     "metadata": {},
     "output_type": "execute_result"
    }
   ],
   "source": [
    "# 7. Perform a matrix multiplication on the tensors you created in 6 (again, you may have to adjust the shapes of one of the tensors)\n",
    "mat_mul_result2 = torch.matmul(tensor3, tensor4.T)\n",
    "mat_mul_result2"
   ]
  },
  {
   "cell_type": "code",
   "execution_count": 19,
   "metadata": {},
   "outputs": [
    {
     "data": {
      "text/plain": [
       "(tensor(1.1655, device='cuda:0'), tensor(0.2788, device='cuda:0'))"
      ]
     },
     "execution_count": 19,
     "metadata": {},
     "output_type": "execute_result"
    }
   ],
   "source": [
    "# 8. Find the maximum and minimum values of the output of 7.\n",
    "max = torch.max(mat_mul_result2)\n",
    "min = torch.min(mat_mul_result2)\n",
    "max, min"
   ]
  },
  {
   "cell_type": "code",
   "execution_count": 25,
   "metadata": {},
   "outputs": [
    {
     "data": {
      "text/plain": [
       "(tensor(2, device='cuda:0'), tensor(1, device='cuda:0'))"
      ]
     },
     "execution_count": 25,
     "metadata": {},
     "output_type": "execute_result"
    }
   ],
   "source": [
    "# 9. Find the maximum and minimum index values of the output of 7.\n",
    "max_index = torch.argmax(mat_mul_result2)\n",
    "min_index = torch.argmin(mat_mul_result2)\n",
    "max_index, min_index"
   ]
  },
  {
   "cell_type": "code",
   "execution_count": 30,
   "metadata": {},
   "outputs": [
    {
     "name": "stdout",
     "output_type": "stream",
     "text": [
      "tensor5: tensor([[[[0.5349, 0.1988, 0.6592, 0.6569, 0.2328, 0.4251, 0.2071, 0.6297,\n",
      "           0.3653, 0.8513]]]])\n",
      "Tensor5 shape: torch.Size([1, 1, 1, 10])\n",
      "tensor6: tensor([0.5349, 0.1988, 0.6592, 0.6569, 0.2328, 0.4251, 0.2071, 0.6297, 0.3653,\n",
      "        0.8513])\n",
      "Tensor6 shape: torch.Size([10])\n"
     ]
    }
   ],
   "source": [
    "# 10. Make a random tensor with shape (1, 1, 1, 10) and then create a new tensor with all the 1 dimensions removed to be left with a tensor of shape (10). Set the seed to 7 when you create it and print out the first tensor and it's shape as well as the second tensor and it's shape.\n",
    "torch.manual_seed(7)\n",
    "tensor5 = torch.rand(1,1,1,10)\n",
    "print(\"tensor5:\",tensor5)\n",
    "print(\"Tensor5 shape:\", tensor5.shape)\n",
    "\n",
    "tensor6 = tensor5.squeeze()\n",
    "print(\"tensor6:\",tensor6)\n",
    "print(\"Tensor6 shape:\", tensor6.shape)"
   ]
  }
 ],
 "metadata": {
  "kernelspec": {
   "display_name": "base",
   "language": "python",
   "name": "python3"
  },
  "language_info": {
   "codemirror_mode": {
    "name": "ipython",
    "version": 3
   },
   "file_extension": ".py",
   "mimetype": "text/x-python",
   "name": "python",
   "nbconvert_exporter": "python",
   "pygments_lexer": "ipython3",
   "version": "3.9.7"
  }
 },
 "nbformat": 4,
 "nbformat_minor": 2
}
