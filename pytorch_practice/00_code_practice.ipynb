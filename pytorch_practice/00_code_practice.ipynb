{
 "cells": [
  {
   "cell_type": "code",
   "execution_count": 1,
   "metadata": {},
   "outputs": [],
   "source": [
    "import torch"
   ]
  },
  {
   "cell_type": "markdown",
   "metadata": {},
   "source": [
    "This file contains the practice questons for the module 00_code.ipynv file."
   ]
  },
  {
   "cell_type": "code",
   "execution_count": 2,
   "metadata": {},
   "outputs": [
    {
     "data": {
      "text/plain": [
       "tensor([[0.7775, 0.0707, 0.9594, 0.8068, 0.4378, 0.0387, 0.0612],\n",
       "        [0.1888, 0.8856, 0.5352, 0.2416, 0.1383, 0.8527, 0.6977],\n",
       "        [0.4292, 0.8430, 0.5780, 0.5483, 0.1656, 0.8948, 0.0287],\n",
       "        [0.5705, 0.6106, 0.3098, 0.9970, 0.4590, 0.0592, 0.1453],\n",
       "        [0.7869, 0.1370, 0.7497, 0.2609, 0.5289, 0.1125, 0.1297],\n",
       "        [0.3974, 0.4926, 0.6531, 0.4016, 0.7262, 0.4134, 0.0441],\n",
       "        [0.7529, 0.7117, 0.3293, 0.7276, 0.5436, 0.6811, 0.0355]])"
      ]
     },
     "execution_count": 2,
     "metadata": {},
     "output_type": "execute_result"
    }
   ],
   "source": [
    "# 2. Create a random tensor with shape (7, 7).\n",
    "tensor1 = torch.rand(7,7)\n",
    "tensor1"
   ]
  },
  {
   "cell_type": "code",
   "execution_count": 3,
   "metadata": {},
   "outputs": [
    {
     "data": {
      "text/plain": [
       "tensor([[2.1478],\n",
       "        [2.2225],\n",
       "        [2.5062],\n",
       "        [1.7527],\n",
       "        [1.8389],\n",
       "        [1.8881],\n",
       "        [2.4271]])"
      ]
     },
     "execution_count": 3,
     "metadata": {},
     "output_type": "execute_result"
    }
   ],
   "source": [
    "# 3. Perform a matrix multiplication on the tensor1 with another random tensor with shape (1, 7) (hint: you may have to transpose the second tensor).\n",
    "\n",
    "tensor2 = torch.rand(1,7)\n",
    "tensor2_transpose = tensor2.T\n",
    "\n",
    "mat_mul_result = torch.matmul(tensor1, tensor2_transpose)\n",
    "mat_mul_result"
   ]
  },
  {
   "cell_type": "code",
   "execution_count": 6,
   "metadata": {},
   "outputs": [
    {
     "data": {
      "text/plain": [
       "tensor([[1.5985],\n",
       "        [1.1173],\n",
       "        [1.2741],\n",
       "        [1.6838],\n",
       "        [0.8279],\n",
       "        [1.0347],\n",
       "        [1.2498]])"
      ]
     },
     "execution_count": 6,
     "metadata": {},
     "output_type": "execute_result"
    }
   ],
   "source": [
    "# 4. Set the random seed to 0 and do exercises 2 & 3 over again\n",
    "torch.manual_seed(0)\n",
    "tensor1 = torch.rand(7,7)\n",
    "\n",
    "torch.manual_seed(0)\n",
    "tensor2 = torch.rand(1,7)\n",
    "\n",
    "tensor2_transpose = tensor2.T\n",
    "\n",
    "mat_mul_result = torch.matmul(tensor1, tensor2_transpose)\n",
    "mat_mul_result"
   ]
  },
  {
   "cell_type": "code",
   "execution_count": null,
   "metadata": {},
   "outputs": [],
   "source": []
  }
 ],
 "metadata": {
  "kernelspec": {
   "display_name": "base",
   "language": "python",
   "name": "python3"
  },
  "language_info": {
   "codemirror_mode": {
    "name": "ipython",
    "version": 3
   },
   "file_extension": ".py",
   "mimetype": "text/x-python",
   "name": "python",
   "nbconvert_exporter": "python",
   "pygments_lexer": "ipython3",
   "version": "3.9.7"
  }
 },
 "nbformat": 4,
 "nbformat_minor": 2
}
