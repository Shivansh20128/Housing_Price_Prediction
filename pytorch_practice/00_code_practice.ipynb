{
 "cells": [
  {
   "cell_type": "code",
   "execution_count": 1,
   "metadata": {},
   "outputs": [],
   "source": [
    "import torch"
   ]
  },
  {
   "cell_type": "markdown",
   "metadata": {},
   "source": [
    "This file contains the practice questons for the module 00_code.ipynv file."
   ]
  },
  {
   "cell_type": "code",
   "execution_count": 2,
   "metadata": {},
   "outputs": [
    {
     "data": {
      "text/plain": [
       "tensor([[0.7775, 0.0707, 0.9594, 0.8068, 0.4378, 0.0387, 0.0612],\n",
       "        [0.1888, 0.8856, 0.5352, 0.2416, 0.1383, 0.8527, 0.6977],\n",
       "        [0.4292, 0.8430, 0.5780, 0.5483, 0.1656, 0.8948, 0.0287],\n",
       "        [0.5705, 0.6106, 0.3098, 0.9970, 0.4590, 0.0592, 0.1453],\n",
       "        [0.7869, 0.1370, 0.7497, 0.2609, 0.5289, 0.1125, 0.1297],\n",
       "        [0.3974, 0.4926, 0.6531, 0.4016, 0.7262, 0.4134, 0.0441],\n",
       "        [0.7529, 0.7117, 0.3293, 0.7276, 0.5436, 0.6811, 0.0355]])"
      ]
     },
     "execution_count": 2,
     "metadata": {},
     "output_type": "execute_result"
    }
   ],
   "source": [
    "# Create a random tensor with shape (7, 7).\n",
    "tensor1 = torch.rand(7,7)\n",
    "tensor1"
   ]
  },
  {
   "cell_type": "code",
   "execution_count": null,
   "metadata": {},
   "outputs": [],
   "source": []
  }
 ],
 "metadata": {
  "kernelspec": {
   "display_name": "base",
   "language": "python",
   "name": "python3"
  },
  "language_info": {
   "codemirror_mode": {
    "name": "ipython",
    "version": 3
   },
   "file_extension": ".py",
   "mimetype": "text/x-python",
   "name": "python",
   "nbconvert_exporter": "python",
   "pygments_lexer": "ipython3",
   "version": "3.9.7"
  }
 },
 "nbformat": 4,
 "nbformat_minor": 2
}
