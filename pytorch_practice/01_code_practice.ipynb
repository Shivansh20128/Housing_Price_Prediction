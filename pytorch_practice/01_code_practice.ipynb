{
 "cells": [
  {
   "cell_type": "markdown",
   "metadata": {},
   "source": [
    "This module will contain the practice assignment for module 2.\n",
    "It is based on the Pytorch workflow fundamentals"
   ]
  },
  {
   "cell_type": "code",
   "execution_count": null,
   "metadata": {},
   "outputs": [],
   "source": [
    "# 1. Create a straight line dataset using the linear regression formula (weight * X + bias).\n",
    "# Set weight=0.3 and bias=0.9 there should be at least 100 datapoints total.\n",
    "\n"
   ]
  }
 ],
 "metadata": {
  "kernelspec": {
   "display_name": "base",
   "language": "python",
   "name": "python3"
  },
  "language_info": {
   "name": "python",
   "version": "3.9.7"
  }
 },
 "nbformat": 4,
 "nbformat_minor": 2
}
