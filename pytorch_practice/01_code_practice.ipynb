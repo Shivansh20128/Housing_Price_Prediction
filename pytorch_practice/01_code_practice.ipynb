{
 "cells": [
  {
   "cell_type": "markdown",
   "metadata": {},
   "source": [
    "This module will contain the practice assignment for module 2.\n",
    "It is based on the Pytorch workflow fundamentals"
   ]
  },
  {
   "cell_type": "code",
   "execution_count": 1,
   "metadata": {},
   "outputs": [],
   "source": [
    "import torch"
   ]
  },
  {
   "cell_type": "code",
   "execution_count": 14,
   "metadata": {},
   "outputs": [
    {
     "data": {
      "text/plain": [
       "<matplotlib.legend.Legend at 0x21f562b67f0>"
      ]
     },
     "execution_count": 14,
     "metadata": {},
     "output_type": "execute_result"
    },
    {
     "data": {
      "image/png": "[encoded data removed]",
      "text/plain": [
       "<Figure size 1000x700 with 1 Axes>"
      ]
     },
     "metadata": {},
     "output_type": "display_data"
    }
   ],
   "source": [
    "# 1. Create a straight line dataset using the linear regression formula (weight * X + bias).\n",
    "# Set weight=0.3 and bias=0.9 there should be at least 100 datapoints total.\n",
    "\n",
    "weight = 0.3\n",
    "bias = 0.9\n",
    "\n",
    "X = torch.arange(0,2,0.02).unsqueeze(1)\n",
    "Y = weight*X + bias\n",
    "\n",
    "# Split the data into 80% training, 20% testing.\n",
    "train_size = int(0.8 * len(X))\n",
    "X_train = X[:train_size]\n",
    "Y_train = Y[:train_size]\n",
    "\n",
    "X_test = X[train_size:]\n",
    "Y_test = Y[train_size:]\n",
    "\n",
    "# Plot the training and testing data so it becomes visual\n",
    "\n",
    "import matplotlib.pyplot as plt\n",
    "plt.figure(figsize=(10,7))\n",
    "plt.scatter(X_train,Y_train, color='r', s=4, label=\"Train\")\n",
    "plt.scatter(X_test,Y_test, color='b', s=4, label=\"Test\")\n",
    "plt.legend()"
   ]
  },
  {
   "cell_type": "code",
   "execution_count": 22,
   "metadata": {},
   "outputs": [
    {
     "data": {
      "text/plain": [
       "OrderedDict([('weights', tensor([0.7070])), ('bias', tensor([0.1049]))])"
      ]
     },
     "execution_count": 22,
     "metadata": {},
     "output_type": "execute_result"
    }
   ],
   "source": [
    "# 2. Build a PyTorch model by subclassing nn.Module\n",
    "# Inside should be a randomly initialized nn.Parameter() with requires_grad=True, one for weights and one for bias.\n",
    "# Implement the forward() method to compute the linear regression function you used to create the dataset in 1.\n",
    "class LRModel(torch.nn.Module):\n",
    "    def __init__(self):\n",
    "        super().__init__()\n",
    "        self.weights = torch.nn.Parameter(torch.rand(1,requires_grad=True))\n",
    "        self.bias = torch.nn.Parameter(torch.rand(1,requires_grad=True))\n",
    "    \n",
    "    def forward(self, x:torch.tensor) -> torch.tensor:\n",
    "        return self.weights * x + self.bias\n",
    "    \n",
    "# Once you've constructed the model, make an instance of it and check its state_dict().\n",
    "model1 = LRModel()\n",
    "model1.state_dict()"
   ]
  },
  {
   "cell_type": "code",
   "execution_count": 23,
   "metadata": {},
   "outputs": [],
   "source": [
    "# 3. Create a loss function and optimizer using nn.L1Loss() and torch.optim.SGD(params, lr) respectively.\n",
    "loss_func = torch.nn.L1Loss()\n",
    "# Set the learning rate of the optimizer to be 0.01 and the parameters to optimize should be the model parameters from the model you created in 2\n",
    "opt = torch.optim.SGD(params = model1.parameters(), lr=0.01)\n",
    "\n",
    "# Write a training loop to perform the appropriate training steps for 300 epochs\n"
   ]
  },
  {
   "cell_type": "code",
   "execution_count": null,
   "metadata": {},
   "outputs": [],
   "source": []
  }
 ],
 "metadata": {
  "kernelspec": {
   "display_name": "base",
   "language": "python",
   "name": "python3"
  },
  "language_info": {
   "codemirror_mode": {
    "name": "ipython",
    "version": 3
   },
   "file_extension": ".py",
   "mimetype": "text/x-python",
   "name": "python",
   "nbconvert_exporter": "python",
   "pygments_lexer": "ipython3",
   "version": "3.9.7"
  }
 },
 "nbformat": 4,
 "nbformat_minor": 2
}
