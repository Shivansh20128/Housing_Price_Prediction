{
 "cells": [
  {
   "cell_type": "code",
   "execution_count": 1,
   "metadata": {},
   "outputs": [
    {
     "name": "stdout",
     "output_type": "stream",
     "text": [
      "2.1.2+cu118\n"
     ]
    }
   ],
   "source": [
    "import torch\n",
    "print(torch.__version__)"
   ]
  },
  {
   "cell_type": "markdown",
   "metadata": {},
   "source": [
    "## Tensors\n",
    "Various dimensions of tensors using pytorch"
   ]
  },
  {
   "cell_type": "code",
   "execution_count": 2,
   "metadata": {},
   "outputs": [
    {
     "data": {
      "text/plain": [
       "tensor(4)"
      ]
     },
     "execution_count": 2,
     "metadata": {},
     "output_type": "execute_result"
    }
   ],
   "source": [
    "# Scalar\n",
    "scalar = torch.tensor(4)\n",
    "scalar"
   ]
  },
  {
   "cell_type": "code",
   "execution_count": 3,
   "metadata": {},
   "outputs": [
    {
     "name": "stdout",
     "output_type": "stream",
     "text": [
      "dimensions: 0\n",
      "size: torch.Size([])\n",
      "Value: 4\n"
     ]
    }
   ],
   "source": [
    "print(\"dimensions:\", scalar.ndim)\n",
    "print(\"size:\", scalar.shape)\n",
    "print(\"Value:\", scalar.item())\n"
   ]
  },
  {
   "cell_type": "code",
   "execution_count": 4,
   "metadata": {},
   "outputs": [
    {
     "data": {
      "text/plain": [
       "tensor([1, 2])"
      ]
     },
     "execution_count": 4,
     "metadata": {},
     "output_type": "execute_result"
    }
   ],
   "source": [
    "#vector\n",
    "vector = torch.tensor([1,2])\n",
    "vector"
   ]
  },
  {
   "cell_type": "code",
   "execution_count": 5,
   "metadata": {},
   "outputs": [
    {
     "name": "stdout",
     "output_type": "stream",
     "text": [
      "dimensions: 1\n",
      "size: torch.Size([2])\n",
      "Value: tensor(1)\n"
     ]
    }
   ],
   "source": [
    "print(\"dimensions:\", vector.ndim)\n",
    "print(\"size:\", vector.shape)\n",
    "print(\"Value:\", vector[0])"
   ]
  },
  {
   "cell_type": "code",
   "execution_count": 6,
   "metadata": {},
   "outputs": [
    {
     "data": {
      "text/plain": [
       "tensor([[1, 2],\n",
       "        [3, 4],\n",
       "        [5, 6]])"
      ]
     },
     "execution_count": 6,
     "metadata": {},
     "output_type": "execute_result"
    }
   ],
   "source": [
    "#Matrix\n",
    "matrix = torch.tensor([[1,2],[3,4],[5,6]])\n",
    "matrix"
   ]
  },
  {
   "cell_type": "code",
   "execution_count": 7,
   "metadata": {},
   "outputs": [
    {
     "name": "stdout",
     "output_type": "stream",
     "text": [
      "dimensions: 2\n",
      "size: torch.Size([3, 2])\n",
      "Value: tensor([3, 4])\n"
     ]
    }
   ],
   "source": [
    "print(\"dimensions:\", matrix.ndim)\n",
    "print(\"size:\", matrix.shape)\n",
    "print(\"Value:\", matrix[1])"
   ]
  },
  {
   "cell_type": "code",
   "execution_count": 8,
   "metadata": {},
   "outputs": [
    {
     "data": {
      "text/plain": [
       "tensor([[[1, 2],\n",
       "         [2, 3],\n",
       "         [3, 4]],\n",
       "\n",
       "        [[4, 5],\n",
       "         [5, 6],\n",
       "         [6, 7]],\n",
       "\n",
       "        [[4, 5],\n",
       "         [5, 6],\n",
       "         [6, 7]],\n",
       "\n",
       "        [[4, 5],\n",
       "         [5, 6],\n",
       "         [6, 7]]])"
      ]
     },
     "execution_count": 8,
     "metadata": {},
     "output_type": "execute_result"
    }
   ],
   "source": [
    "#3d matrix\n",
    "matrix_3d = torch.tensor([[[1,2],[2,3],[3,4]],[[4,5],[5,6],[6,7]],[[4,5],[5,6],[6,7]],[[4,5],[5,6],[6,7]]])\n",
    "matrix_3d"
   ]
  },
  {
   "cell_type": "code",
   "execution_count": 9,
   "metadata": {},
   "outputs": [
    {
     "name": "stdout",
     "output_type": "stream",
     "text": [
      "dimensions: 3\n",
      "size: torch.Size([4, 3, 2])\n",
      "Value: tensor([[4, 5],\n",
      "        [5, 6],\n",
      "        [6, 7]])\n"
     ]
    }
   ],
   "source": [
    "print(\"dimensions:\", matrix_3d.ndim)\n",
    "print(\"size:\", matrix_3d.shape)\n",
    "print(\"Value:\", matrix_3d[1])"
   ]
  },
  {
   "cell_type": "markdown",
   "metadata": {},
   "source": [
    "# Random Tensors"
   ]
  },
  {
   "cell_type": "code",
   "execution_count": 10,
   "metadata": {},
   "outputs": [
    {
     "data": {
      "text/plain": [
       "tensor([[[[[0.0304, 0.6392, 0.9320],\n",
       "           [0.5627, 0.3004, 0.6007],\n",
       "           [0.6612, 0.1096, 0.5203]],\n",
       "\n",
       "          [[0.9804, 0.5527, 0.8079],\n",
       "           [0.0242, 0.7030, 0.7440],\n",
       "           [0.6069, 0.1468, 0.0438]],\n",
       "\n",
       "          [[0.6688, 0.1808, 0.3541],\n",
       "           [0.6918, 0.0479, 0.1344],\n",
       "           [0.5531, 0.6569, 0.4720]]],\n",
       "\n",
       "\n",
       "         [[[0.8123, 0.2311, 0.4813],\n",
       "           [0.5907, 0.1698, 0.1441],\n",
       "           [0.0846, 0.5121, 0.8896]],\n",
       "\n",
       "          [[0.0775, 0.9105, 0.3827],\n",
       "           [0.0320, 0.8484, 0.8519],\n",
       "           [0.9273, 0.2907, 0.7525]],\n",
       "\n",
       "          [[0.4426, 0.3423, 0.0010],\n",
       "           [0.4489, 0.4877, 0.0644],\n",
       "           [0.9410, 0.7878, 0.8435]]],\n",
       "\n",
       "\n",
       "         [[[0.6669, 0.4136, 0.9881],\n",
       "           [0.4863, 0.9771, 0.6988],\n",
       "           [0.5274, 0.7073, 0.1454]],\n",
       "\n",
       "          [[0.4532, 0.0832, 0.1321],\n",
       "           [0.0571, 0.2494, 0.4545],\n",
       "           [0.1854, 0.2717, 0.7344]],\n",
       "\n",
       "          [[0.2683, 0.0146, 0.2026],\n",
       "           [0.2443, 0.1349, 0.9450],\n",
       "           [0.2224, 0.7847, 0.6851]]],\n",
       "\n",
       "\n",
       "         [[[0.2955, 0.7911, 0.6614],\n",
       "           [0.0721, 0.0834, 0.4776],\n",
       "           [0.8710, 0.8274, 0.2890]],\n",
       "\n",
       "          [[0.2732, 0.3563, 0.8704],\n",
       "           [0.5342, 0.9159, 0.3507],\n",
       "           [0.4077, 0.4908, 0.2598]],\n",
       "\n",
       "          [[0.7459, 0.6809, 0.8820],\n",
       "           [0.1474, 0.9586, 0.0190],\n",
       "           [0.9219, 0.2240, 0.7333]]]],\n",
       "\n",
       "\n",
       "\n",
       "        [[[[0.5103, 0.0113, 0.0283],\n",
       "           [0.0100, 0.6352, 0.9486],\n",
       "           [0.1621, 0.3920, 0.1752]],\n",
       "\n",
       "          [[0.4395, 0.7256, 0.5375],\n",
       "           [0.3234, 0.6804, 0.2107],\n",
       "           [0.7527, 0.6230, 0.1697]],\n",
       "\n",
       "          [[0.7171, 0.7470, 0.6476],\n",
       "           [0.5660, 0.6864, 0.7703],\n",
       "           [0.0280, 0.9025, 0.8790]]],\n",
       "\n",
       "\n",
       "         [[[0.1944, 0.0756, 0.2815],\n",
       "           [0.2056, 0.5871, 0.4734],\n",
       "           [0.1266, 0.7441, 0.3180]],\n",
       "\n",
       "          [[0.1110, 0.7576, 0.3049],\n",
       "           [0.4058, 0.3038, 0.8270],\n",
       "           [0.8862, 0.4666, 0.2090]],\n",
       "\n",
       "          [[0.6467, 0.2805, 0.1106],\n",
       "           [0.4180, 0.0685, 0.2795],\n",
       "           [0.7022, 0.4277, 0.5753]]],\n",
       "\n",
       "\n",
       "         [[[0.0088, 0.8407, 0.5134],\n",
       "           [0.3675, 0.1967, 0.2587],\n",
       "           [0.1009, 0.3838, 0.9531]],\n",
       "\n",
       "          [[0.2213, 0.6132, 0.3123],\n",
       "           [0.6092, 0.1371, 0.4856],\n",
       "           [0.7171, 0.9363, 0.1190]],\n",
       "\n",
       "          [[0.8263, 0.8244, 0.4226],\n",
       "           [0.7628, 0.6338, 0.9849],\n",
       "           [0.0039, 0.7591, 0.9031]]],\n",
       "\n",
       "\n",
       "         [[[0.3177, 0.7138, 0.3651],\n",
       "           [0.6244, 0.4506, 0.9267],\n",
       "           [0.4111, 0.9578, 0.8236]],\n",
       "\n",
       "          [[0.3994, 0.8110, 0.3443],\n",
       "           [0.9573, 0.4959, 0.9812],\n",
       "           [0.9447, 0.5143, 0.8071]],\n",
       "\n",
       "          [[0.7627, 0.5099, 0.0289],\n",
       "           [0.4169, 0.8783, 0.1908],\n",
       "           [0.2295, 0.7406, 0.6897]]]]])"
      ]
     },
     "execution_count": 10,
     "metadata": {},
     "output_type": "execute_result"
    }
   ],
   "source": [
    "random_tensor = torch.rand(2,4,3,3,3)\n",
    "random_tensor"
   ]
  },
  {
   "cell_type": "code",
   "execution_count": 11,
   "metadata": {},
   "outputs": [
    {
     "name": "stdout",
     "output_type": "stream",
     "text": [
      "dimensions: 5\n",
      "size: torch.Size([2, 4, 3, 3, 3])\n",
      "Value: tensor([[[[0.5103, 0.0113, 0.0283],\n",
      "          [0.0100, 0.6352, 0.9486],\n",
      "          [0.1621, 0.3920, 0.1752]],\n",
      "\n",
      "         [[0.4395, 0.7256, 0.5375],\n",
      "          [0.3234, 0.6804, 0.2107],\n",
      "          [0.7527, 0.6230, 0.1697]],\n",
      "\n",
      "         [[0.7171, 0.7470, 0.6476],\n",
      "          [0.5660, 0.6864, 0.7703],\n",
      "          [0.0280, 0.9025, 0.8790]]],\n",
      "\n",
      "\n",
      "        [[[0.1944, 0.0756, 0.2815],\n",
      "          [0.2056, 0.5871, 0.4734],\n",
      "          [0.1266, 0.7441, 0.3180]],\n",
      "\n",
      "         [[0.1110, 0.7576, 0.3049],\n",
      "          [0.4058, 0.3038, 0.8270],\n",
      "          [0.8862, 0.4666, 0.2090]],\n",
      "\n",
      "         [[0.6467, 0.2805, 0.1106],\n",
      "          [0.4180, 0.0685, 0.2795],\n",
      "          [0.7022, 0.4277, 0.5753]]],\n",
      "\n",
      "\n",
      "        [[[0.0088, 0.8407, 0.5134],\n",
      "          [0.3675, 0.1967, 0.2587],\n",
      "          [0.1009, 0.3838, 0.9531]],\n",
      "\n",
      "         [[0.2213, 0.6132, 0.3123],\n",
      "          [0.6092, 0.1371, 0.4856],\n",
      "          [0.7171, 0.9363, 0.1190]],\n",
      "\n",
      "         [[0.8263, 0.8244, 0.4226],\n",
      "          [0.7628, 0.6338, 0.9849],\n",
      "          [0.0039, 0.7591, 0.9031]]],\n",
      "\n",
      "\n",
      "        [[[0.3177, 0.7138, 0.3651],\n",
      "          [0.6244, 0.4506, 0.9267],\n",
      "          [0.4111, 0.9578, 0.8236]],\n",
      "\n",
      "         [[0.3994, 0.8110, 0.3443],\n",
      "          [0.9573, 0.4959, 0.9812],\n",
      "          [0.9447, 0.5143, 0.8071]],\n",
      "\n",
      "         [[0.7627, 0.5099, 0.0289],\n",
      "          [0.4169, 0.8783, 0.1908],\n",
      "          [0.2295, 0.7406, 0.6897]]]])\n"
     ]
    }
   ],
   "source": [
    "print(\"dimensions:\", random_tensor.ndim)\n",
    "print(\"size:\", random_tensor.shape)\n",
    "print(\"Value:\", random_tensor[1])"
   ]
  },
  {
   "cell_type": "markdown",
   "metadata": {},
   "source": [
    "Tensor of Zeroes and Ones"
   ]
  },
  {
   "cell_type": "code",
   "execution_count": 12,
   "metadata": {},
   "outputs": [
    {
     "data": {
      "text/plain": [
       "tensor([[[0., 0., 0., 0.],\n",
       "         [0., 0., 0., 0.],\n",
       "         [0., 0., 0., 0.],\n",
       "         [0., 0., 0., 0.],\n",
       "         [0., 0., 0., 0.]],\n",
       "\n",
       "        [[0., 0., 0., 0.],\n",
       "         [0., 0., 0., 0.],\n",
       "         [0., 0., 0., 0.],\n",
       "         [0., 0., 0., 0.],\n",
       "         [0., 0., 0., 0.]],\n",
       "\n",
       "        [[0., 0., 0., 0.],\n",
       "         [0., 0., 0., 0.],\n",
       "         [0., 0., 0., 0.],\n",
       "         [0., 0., 0., 0.],\n",
       "         [0., 0., 0., 0.]]])"
      ]
     },
     "execution_count": 12,
     "metadata": {},
     "output_type": "execute_result"
    }
   ],
   "source": [
    "zeros = torch.zeros(3,5,4)\n",
    "zeros"
   ]
  },
  {
   "cell_type": "code",
   "execution_count": 13,
   "metadata": {},
   "outputs": [
    {
     "data": {
      "text/plain": [
       "tensor([[1., 1., 1.],\n",
       "        [1., 1., 1.]])"
      ]
     },
     "execution_count": 13,
     "metadata": {},
     "output_type": "execute_result"
    }
   ],
   "source": [
    "ones  =torch.ones(2,3)\n",
    "ones"
   ]
  },
  {
   "cell_type": "markdown",
   "metadata": {},
   "source": [
    "Creating a range of tensors and tensors like"
   ]
  },
  {
   "cell_type": "code",
   "execution_count": 16,
   "metadata": {},
   "outputs": [
    {
     "data": {
      "text/plain": [
       "tensor([0, 1, 2, 3, 4, 5, 6, 7, 8, 9])"
      ]
     },
     "execution_count": 16,
     "metadata": {},
     "output_type": "execute_result"
    }
   ],
   "source": [
    "range = torch.arange(0,10)\n",
    "# or\n",
    "# range = torch.arange(start=0, end=10, step=1)\n",
    "range"
   ]
  },
  {
   "cell_type": "code",
   "execution_count": 21,
   "metadata": {},
   "outputs": [
    {
     "name": "stdout",
     "output_type": "stream",
     "text": [
      "dimensions: 1\n",
      "size: torch.Size([10])\n",
      "Value: tensor(1)\n"
     ]
    }
   ],
   "source": [
    "print(\"dimensions:\", range.ndim)\n",
    "print(\"size:\", range.shape)\n",
    "print(\"Value:\", range[1])"
   ]
  },
  {
   "cell_type": "code",
   "execution_count": 23,
   "metadata": {},
   "outputs": [
    {
     "data": {
      "text/plain": [
       "tensor([0, 0, 0, 0, 0, 0, 0, 0, 0, 0])"
      ]
     },
     "execution_count": 23,
     "metadata": {},
     "output_type": "execute_result"
    }
   ],
   "source": [
    "ten_zeros = torch.zeros_like(input = range)\n",
    "ten_zeros"
   ]
  },
  {
   "cell_type": "markdown",
   "metadata": {},
   "source": [
    "Tensor datatypes"
   ]
  },
  {
   "cell_type": "code",
   "execution_count": 26,
   "metadata": {},
   "outputs": [
    {
     "data": {
      "text/plain": [
       "torch.float32"
      ]
     },
     "execution_count": 26,
     "metadata": {},
     "output_type": "execute_result"
    }
   ],
   "source": [
    "# By default, the dtype in a tensor is float32. But we can change it to our desired type\n",
    "tensor_data_ex1 = torch.tensor([1.0,2.0,3.0], dtype=None)\n",
    "tensor_data_ex1.dtype"
   ]
  },
  {
   "cell_type": "code",
   "execution_count": 27,
   "metadata": {},
   "outputs": [
    {
     "data": {
      "text/plain": [
       "torch.float16"
      ]
     },
     "execution_count": 27,
     "metadata": {},
     "output_type": "execute_result"
    }
   ],
   "source": [
    "tensor_data_ex2 = torch.tensor([1.0,2.0,3.0], dtype=torch.float16)\n",
    "tensor_data_ex2.dtype"
   ]
  },
  {
   "cell_type": "markdown",
   "metadata": {},
   "source": [
    "Other Parameters in defining a tensor"
   ]
  },
  {
   "cell_type": "code",
   "execution_count": 35,
   "metadata": {},
   "outputs": [
    {
     "data": {
      "text/plain": [
       "torch.float32"
      ]
     },
     "execution_count": 35,
     "metadata": {},
     "output_type": "execute_result"
    }
   ],
   "source": [
    "tensor_data_ex2 = torch.tensor([1.0,2.0,3.0], \n",
    "                               dtype=torch.float32, \n",
    "                               device = \"cpu\", # This tells us which device the tensor resides on. It can be on cuda, cpu etc.\n",
    "                               requires_grad=False # This tells us whether we should track the gradients of the tensor or not. \n",
    "                               )\n",
    "tensor_data_ex2.dtype"
   ]
  },
  {
   "cell_type": "markdown",
   "metadata": {},
   "source": [
    "# Important Point\n",
    "Two tensors can only interact together when they are on the same device. For example, if a tensor t1 is on \"cpu\", and tensor t2 is on \"cuda\", then any operation between t1 and t2 will throw an error. To do the operation, t1 and t2 must be on the same device (both on cpu or cuda)"
   ]
  },
  {
   "cell_type": "code",
   "execution_count": 44,
   "metadata": {},
   "outputs": [
    {
     "data": {
      "text/plain": [
       "device(type='cpu')"
      ]
     },
     "execution_count": 44,
     "metadata": {},
     "output_type": "execute_result"
    }
   ],
   "source": [
    "pro = tensor_data_ex1 * tensor_data_ex2 #Performing a tensor operation of multiplication (elementwise)\n",
    "print(\"datatype:\",pro.dtype)\n",
    "print(\"shape:\",pro.shape)\n",
    "print(\"dimensions:\",pro.ndim)\n",
    "print(\"device:\",pro.device)\n"
   ]
  },
  {
   "cell_type": "markdown",
   "metadata": {},
   "source": [
    "Tensor Operations"
   ]
  },
  {
   "cell_type": "code",
   "execution_count": 47,
   "metadata": {},
   "outputs": [
    {
     "name": "stdout",
     "output_type": "stream",
     "text": [
      "tensor+tensor: tensor([2, 4, 6, 8])\n",
      "tensor-tensor: tensor([0, 0, 0, 0])\n",
      "tensor*tensor: tensor([ 1,  4,  9, 16])\n",
      "tensor/tensor: tensor([1., 1., 1., 1.])\n",
      "tensor+tensor: tensor([2, 4, 6, 8])\n",
      "tensor-tensor: tensor([0, 0, 0, 0])\n",
      "tensor*tensor: tensor([ 1,  4,  9, 16])\n",
      "tensor/tensor: tensor([1., 1., 1., 1.])\n",
      "tensor+tensor: tensor([11, 12, 13, 14])\n"
     ]
    }
   ],
   "source": [
    "# Some common operations on tensors are addition, subtraction , multiplication, division, matrix multiplication\n",
    "op_tensor = torch.tensor([1,2,3,4])\n",
    "print(\"tensor+tensor:\",op_tensor+op_tensor)\n",
    "print(\"tensor-tensor:\",op_tensor-op_tensor)\n",
    "print(\"tensor*tensor:\",op_tensor*op_tensor)\n",
    "print(\"tensor/tensor:\",op_tensor/op_tensor)\n",
    "print(\"tensor+tensor:\",torch.add(op_tensor, op_tensor))\n",
    "print(\"tensor-tensor:\",torch.sub(op_tensor, op_tensor))\n",
    "print(\"tensor*tensor:\",torch.mul(op_tensor, op_tensor))\n",
    "print(\"tensor/tensor:\",torch.div(op_tensor, op_tensor))\n",
    "print(\"tensor+tensor:\",torch.add(op_tensor, 10))"
   ]
  },
  {
   "cell_type": "code",
   "execution_count": null,
   "metadata": {},
   "outputs": [],
   "source": []
  }
 ],
 "metadata": {
  "kernelspec": {
   "display_name": "base",
   "language": "python",
   "name": "python3"
  },
  "language_info": {
   "codemirror_mode": {
    "name": "ipython",
    "version": 3
   },
   "file_extension": ".py",
   "mimetype": "text/x-python",
   "name": "python",
   "nbconvert_exporter": "python",
   "pygments_lexer": "ipython3",
   "version": "3.9.7"
  }
 },
 "nbformat": 4,
 "nbformat_minor": 2
}
