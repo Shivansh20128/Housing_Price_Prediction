{
 "cells": [
  {
   "cell_type": "code",
   "execution_count": 1,
   "metadata": {},
   "outputs": [
    {
     "name": "stdout",
     "output_type": "stream",
     "text": [
      "2.1.2+cu118\n"
     ]
    }
   ],
   "source": [
    "import torch\n",
    "print(torch.__version__)"
   ]
  },
  {
   "cell_type": "markdown",
   "metadata": {},
   "source": [
    "## Tensors\n",
    "Various dimensions of tensors using pytorch"
   ]
  },
  {
   "cell_type": "code",
   "execution_count": 2,
   "metadata": {},
   "outputs": [
    {
     "data": {
      "text/plain": [
       "tensor(4)"
      ]
     },
     "execution_count": 2,
     "metadata": {},
     "output_type": "execute_result"
    }
   ],
   "source": [
    "# Scalar\n",
    "scalar = torch.tensor(4)\n",
    "scalar"
   ]
  },
  {
   "cell_type": "code",
   "execution_count": 3,
   "metadata": {},
   "outputs": [
    {
     "name": "stdout",
     "output_type": "stream",
     "text": [
      "dimensions: 0\n",
      "size: torch.Size([])\n",
      "Value: 4\n"
     ]
    }
   ],
   "source": [
    "print(\"dimensions:\", scalar.ndim)\n",
    "print(\"size:\", scalar.shape)\n",
    "print(\"Value:\", scalar.item())\n"
   ]
  },
  {
   "cell_type": "code",
   "execution_count": 4,
   "metadata": {},
   "outputs": [
    {
     "data": {
      "text/plain": [
       "tensor([1, 2])"
      ]
     },
     "execution_count": 4,
     "metadata": {},
     "output_type": "execute_result"
    }
   ],
   "source": [
    "#vector\n",
    "vector = torch.tensor([1,2])\n",
    "vector"
   ]
  },
  {
   "cell_type": "code",
   "execution_count": 5,
   "metadata": {},
   "outputs": [
    {
     "name": "stdout",
     "output_type": "stream",
     "text": [
      "dimensions: 1\n",
      "size: torch.Size([2])\n",
      "Value: tensor(1)\n"
     ]
    }
   ],
   "source": [
    "print(\"dimensions:\", vector.ndim)\n",
    "print(\"size:\", vector.shape)\n",
    "print(\"Value:\", vector[0])"
   ]
  },
  {
   "cell_type": "code",
   "execution_count": 19,
   "metadata": {},
   "outputs": [
    {
     "data": {
      "text/plain": [
       "tensor([[1., 2.],\n",
       "        [3., 4.],\n",
       "        [5., 6.]])"
      ]
     },
     "execution_count": 19,
     "metadata": {},
     "output_type": "execute_result"
    }
   ],
   "source": [
    "#Matrix\n",
    "matrix = torch.tensor([[1,2],[3,4],[5,6]], dtype=torch.float32)\n",
    "matrix"
   ]
  },
  {
   "cell_type": "code",
   "execution_count": 7,
   "metadata": {},
   "outputs": [
    {
     "name": "stdout",
     "output_type": "stream",
     "text": [
      "dimensions: 2\n",
      "size: torch.Size([3, 2])\n",
      "Value: tensor([3, 4])\n"
     ]
    }
   ],
   "source": [
    "print(\"dimensions:\", matrix.ndim)\n",
    "print(\"size:\", matrix.shape)\n",
    "print(\"Value:\", matrix[1])"
   ]
  },
  {
   "cell_type": "code",
   "execution_count": 8,
   "metadata": {},
   "outputs": [
    {
     "data": {
      "text/plain": [
       "tensor([[[1, 2],\n",
       "         [2, 3],\n",
       "         [3, 4]],\n",
       "\n",
       "        [[4, 5],\n",
       "         [5, 6],\n",
       "         [6, 7]],\n",
       "\n",
       "        [[4, 5],\n",
       "         [5, 6],\n",
       "         [6, 7]],\n",
       "\n",
       "        [[4, 5],\n",
       "         [5, 6],\n",
       "         [6, 7]]])"
      ]
     },
     "execution_count": 8,
     "metadata": {},
     "output_type": "execute_result"
    }
   ],
   "source": [
    "#3d matrix\n",
    "matrix_3d = torch.tensor([[[1,2],[2,3],[3,4]],[[4,5],[5,6],[6,7]],[[4,5],[5,6],[6,7]],[[4,5],[5,6],[6,7]]])\n",
    "matrix_3d"
   ]
  },
  {
   "cell_type": "code",
   "execution_count": 9,
   "metadata": {},
   "outputs": [
    {
     "name": "stdout",
     "output_type": "stream",
     "text": [
      "dimensions: 3\n",
      "size: torch.Size([4, 3, 2])\n",
      "Value: tensor([[4, 5],\n",
      "        [5, 6],\n",
      "        [6, 7]])\n"
     ]
    }
   ],
   "source": [
    "print(\"dimensions:\", matrix_3d.ndim)\n",
    "print(\"size:\", matrix_3d.shape)\n",
    "print(\"Value:\", matrix_3d[1])"
   ]
  },
  {
   "cell_type": "markdown",
   "metadata": {},
   "source": [
    "# Random Tensors"
   ]
  },
  {
   "cell_type": "code",
   "execution_count": 10,
   "metadata": {},
   "outputs": [
    {
     "data": {
      "text/plain": [
       "tensor([[[[[0.7031, 0.3678, 0.1457],\n",
       "           [0.9517, 0.1259, 0.1184],\n",
       "           [0.7703, 0.3460, 0.2637]],\n",
       "\n",
       "          [[0.7249, 0.9351, 0.1352],\n",
       "           [0.3810, 0.6459, 0.4830],\n",
       "           [0.2327, 0.8175, 0.6152]],\n",
       "\n",
       "          [[0.6321, 0.7495, 0.4899],\n",
       "           [0.2576, 0.2888, 0.6540],\n",
       "           [0.7677, 0.3715, 0.6879]]],\n",
       "\n",
       "\n",
       "         [[[0.3673, 0.8478, 0.6258],\n",
       "           [0.9504, 0.8126, 0.9787],\n",
       "           [0.5003, 0.0038, 0.0280]],\n",
       "\n",
       "          [[0.8919, 0.6794, 0.3133],\n",
       "           [0.4246, 0.1720, 0.6093],\n",
       "           [0.2868, 0.8054, 0.8184]],\n",
       "\n",
       "          [[0.9515, 0.4712, 0.5063],\n",
       "           [0.4860, 0.1097, 0.0506],\n",
       "           [0.4144, 0.5345, 0.0579]]],\n",
       "\n",
       "\n",
       "         [[[0.0259, 0.0195, 0.4746],\n",
       "           [0.7485, 0.3043, 0.7118],\n",
       "           [0.1291, 0.7527, 0.7530]],\n",
       "\n",
       "          [[0.0727, 0.3190, 0.3488],\n",
       "           [0.0500, 0.8167, 0.2867],\n",
       "           [0.5718, 0.7848, 0.8408]],\n",
       "\n",
       "          [[0.7476, 0.7982, 0.9678],\n",
       "           [0.7006, 0.6294, 0.0014],\n",
       "           [0.7373, 0.0483, 0.0278]]],\n",
       "\n",
       "\n",
       "         [[[0.2265, 0.0676, 0.0827],\n",
       "           [0.6357, 0.8964, 0.2135],\n",
       "           [0.7727, 0.7719, 0.9680]],\n",
       "\n",
       "          [[0.9805, 0.0105, 0.5780],\n",
       "           [0.5736, 0.0858, 0.2591],\n",
       "           [0.4771, 0.0887, 0.3565]],\n",
       "\n",
       "          [[0.4953, 0.2651, 0.4328],\n",
       "           [0.6395, 0.8410, 0.3616],\n",
       "           [0.4410, 0.2815, 0.0558]]]],\n",
       "\n",
       "\n",
       "\n",
       "        [[[[0.4846, 0.0522, 0.5860],\n",
       "           [0.2412, 0.4366, 0.7085],\n",
       "           [0.1393, 0.7627, 0.9271]],\n",
       "\n",
       "          [[0.8482, 0.8546, 0.5981],\n",
       "           [0.7507, 0.5468, 0.5700],\n",
       "           [0.5514, 0.1847, 0.6294]],\n",
       "\n",
       "          [[0.8312, 0.6758, 0.0392],\n",
       "           [0.5401, 0.7334, 0.2914],\n",
       "           [0.5910, 0.8479, 0.8236]]],\n",
       "\n",
       "\n",
       "         [[[0.9757, 0.7142, 0.5136],\n",
       "           [0.8280, 0.3981, 0.4339],\n",
       "           [0.0435, 0.4692, 0.8956]],\n",
       "\n",
       "          [[0.8677, 0.8008, 0.6188],\n",
       "           [0.5308, 0.5901, 0.7254],\n",
       "           [0.7546, 0.6644, 0.4572]],\n",
       "\n",
       "          [[0.3504, 0.8558, 0.1813],\n",
       "           [0.1058, 0.4085, 0.4371],\n",
       "           [0.4105, 0.8200, 0.9918]]],\n",
       "\n",
       "\n",
       "         [[[0.9183, 0.8478, 0.5194],\n",
       "           [0.8817, 0.3796, 0.3792],\n",
       "           [0.5760, 0.3184, 0.7616]],\n",
       "\n",
       "          [[0.1078, 0.5675, 0.3860],\n",
       "           [0.4615, 0.9256, 0.3425],\n",
       "           [0.9196, 0.7382, 0.5199]],\n",
       "\n",
       "          [[0.7200, 0.6555, 0.6838],\n",
       "           [0.8284, 0.0808, 0.6871],\n",
       "           [0.0737, 0.2810, 0.5840]]],\n",
       "\n",
       "\n",
       "         [[[0.5236, 0.3527, 0.3779],\n",
       "           [0.4004, 0.2899, 0.1128],\n",
       "           [0.0734, 0.5252, 0.0964]],\n",
       "\n",
       "          [[0.4245, 0.6947, 0.5197],\n",
       "           [0.1541, 0.9289, 0.0674],\n",
       "           [0.4487, 0.4254, 0.1824]],\n",
       "\n",
       "          [[0.8171, 0.4507, 0.4566],\n",
       "           [0.0871, 0.8559, 0.1321],\n",
       "           [0.3722, 0.9949, 0.9785]]]]])"
      ]
     },
     "execution_count": 10,
     "metadata": {},
     "output_type": "execute_result"
    }
   ],
   "source": [
    "random_tensor = torch.rand(2,4,3,3,3)\n",
    "random_tensor"
   ]
  },
  {
   "cell_type": "code",
   "execution_count": 11,
   "metadata": {},
   "outputs": [
    {
     "name": "stdout",
     "output_type": "stream",
     "text": [
      "dimensions: 5\n",
      "size: torch.Size([2, 4, 3, 3, 3])\n",
      "Value: tensor([[[[0.4846, 0.0522, 0.5860],\n",
      "          [0.2412, 0.4366, 0.7085],\n",
      "          [0.1393, 0.7627, 0.9271]],\n",
      "\n",
      "         [[0.8482, 0.8546, 0.5981],\n",
      "          [0.7507, 0.5468, 0.5700],\n",
      "          [0.5514, 0.1847, 0.6294]],\n",
      "\n",
      "         [[0.8312, 0.6758, 0.0392],\n",
      "          [0.5401, 0.7334, 0.2914],\n",
      "          [0.5910, 0.8479, 0.8236]]],\n",
      "\n",
      "\n",
      "        [[[0.9757, 0.7142, 0.5136],\n",
      "          [0.8280, 0.3981, 0.4339],\n",
      "          [0.0435, 0.4692, 0.8956]],\n",
      "\n",
      "         [[0.8677, 0.8008, 0.6188],\n",
      "          [0.5308, 0.5901, 0.7254],\n",
      "          [0.7546, 0.6644, 0.4572]],\n",
      "\n",
      "         [[0.3504, 0.8558, 0.1813],\n",
      "          [0.1058, 0.4085, 0.4371],\n",
      "          [0.4105, 0.8200, 0.9918]]],\n",
      "\n",
      "\n",
      "        [[[0.9183, 0.8478, 0.5194],\n",
      "          [0.8817, 0.3796, 0.3792],\n",
      "          [0.5760, 0.3184, 0.7616]],\n",
      "\n",
      "         [[0.1078, 0.5675, 0.3860],\n",
      "          [0.4615, 0.9256, 0.3425],\n",
      "          [0.9196, 0.7382, 0.5199]],\n",
      "\n",
      "         [[0.7200, 0.6555, 0.6838],\n",
      "          [0.8284, 0.0808, 0.6871],\n",
      "          [0.0737, 0.2810, 0.5840]]],\n",
      "\n",
      "\n",
      "        [[[0.5236, 0.3527, 0.3779],\n",
      "          [0.4004, 0.2899, 0.1128],\n",
      "          [0.0734, 0.5252, 0.0964]],\n",
      "\n",
      "         [[0.4245, 0.6947, 0.5197],\n",
      "          [0.1541, 0.9289, 0.0674],\n",
      "          [0.4487, 0.4254, 0.1824]],\n",
      "\n",
      "         [[0.8171, 0.4507, 0.4566],\n",
      "          [0.0871, 0.8559, 0.1321],\n",
      "          [0.3722, 0.9949, 0.9785]]]])\n"
     ]
    }
   ],
   "source": [
    "print(\"dimensions:\", random_tensor.ndim)\n",
    "print(\"size:\", random_tensor.shape)\n",
    "print(\"Value:\", random_tensor[1])"
   ]
  },
  {
   "cell_type": "markdown",
   "metadata": {},
   "source": [
    "Tensor of Zeroes and Ones"
   ]
  },
  {
   "cell_type": "code",
   "execution_count": 12,
   "metadata": {},
   "outputs": [
    {
     "data": {
      "text/plain": [
       "tensor([[[0., 0., 0., 0.],\n",
       "         [0., 0., 0., 0.],\n",
       "         [0., 0., 0., 0.],\n",
       "         [0., 0., 0., 0.],\n",
       "         [0., 0., 0., 0.]],\n",
       "\n",
       "        [[0., 0., 0., 0.],\n",
       "         [0., 0., 0., 0.],\n",
       "         [0., 0., 0., 0.],\n",
       "         [0., 0., 0., 0.],\n",
       "         [0., 0., 0., 0.]],\n",
       "\n",
       "        [[0., 0., 0., 0.],\n",
       "         [0., 0., 0., 0.],\n",
       "         [0., 0., 0., 0.],\n",
       "         [0., 0., 0., 0.],\n",
       "         [0., 0., 0., 0.]]])"
      ]
     },
     "execution_count": 12,
     "metadata": {},
     "output_type": "execute_result"
    }
   ],
   "source": [
    "zeros = torch.zeros(3,5,4)\n",
    "zeros"
   ]
  },
  {
   "cell_type": "code",
   "execution_count": 13,
   "metadata": {},
   "outputs": [
    {
     "data": {
      "text/plain": [
       "tensor([[1., 1., 1.],\n",
       "        [1., 1., 1.]])"
      ]
     },
     "execution_count": 13,
     "metadata": {},
     "output_type": "execute_result"
    }
   ],
   "source": [
    "ones  =torch.ones(2,3)\n",
    "ones"
   ]
  },
  {
   "cell_type": "markdown",
   "metadata": {},
   "source": [
    "Creating a range of tensors and tensors like"
   ]
  },
  {
   "cell_type": "code",
   "execution_count": 14,
   "metadata": {},
   "outputs": [
    {
     "data": {
      "text/plain": [
       "tensor([0, 1, 2, 3, 4, 5, 6, 7, 8, 9])"
      ]
     },
     "execution_count": 14,
     "metadata": {},
     "output_type": "execute_result"
    }
   ],
   "source": [
    "range = torch.arange(0,10)\n",
    "# or\n",
    "# range = torch.arange(start=0, end=10, step=1)\n",
    "range"
   ]
  },
  {
   "cell_type": "code",
   "execution_count": 15,
   "metadata": {},
   "outputs": [
    {
     "name": "stdout",
     "output_type": "stream",
     "text": [
      "dimensions: 1\n",
      "size: torch.Size([10])\n",
      "Value: tensor(1)\n"
     ]
    }
   ],
   "source": [
    "print(\"dimensions:\", range.ndim)\n",
    "print(\"size:\", range.shape)\n",
    "print(\"Value:\", range[1])"
   ]
  },
  {
   "cell_type": "code",
   "execution_count": 16,
   "metadata": {},
   "outputs": [
    {
     "data": {
      "text/plain": [
       "tensor([0, 0, 0, 0, 0, 0, 0, 0, 0, 0])"
      ]
     },
     "execution_count": 16,
     "metadata": {},
     "output_type": "execute_result"
    }
   ],
   "source": [
    "ten_zeros = torch.zeros_like(input = range)\n",
    "ten_zeros"
   ]
  },
  {
   "cell_type": "markdown",
   "metadata": {},
   "source": [
    "Tensor datatypes"
   ]
  },
  {
   "cell_type": "code",
   "execution_count": 17,
   "metadata": {},
   "outputs": [
    {
     "data": {
      "text/plain": [
       "torch.float32"
      ]
     },
     "execution_count": 17,
     "metadata": {},
     "output_type": "execute_result"
    }
   ],
   "source": [
    "# By default, the dtype in a tensor is float32. But we can change it to our desired type\n",
    "tensor_data_ex1 = torch.tensor([1.0,2.0,3.0], dtype=None)\n",
    "tensor_data_ex1.dtype"
   ]
  },
  {
   "cell_type": "code",
   "execution_count": 18,
   "metadata": {},
   "outputs": [
    {
     "data": {
      "text/plain": [
       "torch.float16"
      ]
     },
     "execution_count": 18,
     "metadata": {},
     "output_type": "execute_result"
    }
   ],
   "source": [
    "tensor_data_ex2 = torch.tensor([1.0,2.0,3.0], dtype=torch.float16)\n",
    "tensor_data_ex2.dtype"
   ]
  },
  {
   "cell_type": "markdown",
   "metadata": {},
   "source": [
    "Other Parameters in defining a tensor"
   ]
  },
  {
   "cell_type": "code",
   "execution_count": 19,
   "metadata": {},
   "outputs": [
    {
     "data": {
      "text/plain": [
       "torch.float32"
      ]
     },
     "execution_count": 19,
     "metadata": {},
     "output_type": "execute_result"
    }
   ],
   "source": [
    "tensor_data_ex2 = torch.tensor([1.0,2.0,3.0], \n",
    "                               dtype=torch.float32, \n",
    "                               device = \"cpu\", # This tells us which device the tensor resides on. It can be on cuda, cpu etc.\n",
    "                               requires_grad=False # This tells us whether we should track the gradients of the tensor or not. \n",
    "                               )\n",
    "tensor_data_ex2.dtype"
   ]
  },
  {
   "cell_type": "markdown",
   "metadata": {},
   "source": [
    "# Important Point\n",
    "Two tensors can only interact together when they are on the same device. For example, if a tensor t1 is on \"cpu\", and tensor t2 is on \"cuda\", then any operation between t1 and t2 will throw an error. To do the operation, t1 and t2 must be on the same device (both on cpu or cuda)"
   ]
  },
  {
   "cell_type": "code",
   "execution_count": 20,
   "metadata": {},
   "outputs": [
    {
     "name": "stdout",
     "output_type": "stream",
     "text": [
      "datatype: torch.float32\n",
      "shape: torch.Size([3])\n",
      "dimensions: 1\n",
      "device: cpu\n"
     ]
    }
   ],
   "source": [
    "pro = tensor_data_ex1 * tensor_data_ex2 #Performing a tensor operation of multiplication (elementwise)\n",
    "print(\"datatype:\",pro.dtype)\n",
    "print(\"shape:\",pro.shape)\n",
    "print(\"dimensions:\",pro.ndim)\n",
    "print(\"device:\",pro.device)\n"
   ]
  },
  {
   "cell_type": "markdown",
   "metadata": {},
   "source": [
    "Tensor Operations"
   ]
  },
  {
   "cell_type": "code",
   "execution_count": 11,
   "metadata": {},
   "outputs": [
    {
     "name": "stdout",
     "output_type": "stream",
     "text": [
      "tensor+tensor: tensor([2, 4, 6, 8])\n",
      "tensor-tensor: tensor([0, 0, 0, 0])\n",
      "tensor*tensor: tensor([ 1,  4,  9, 16])\n",
      "tensor/tensor: tensor([1., 1., 1., 1.])\n",
      "tensor+tensor: tensor([2, 4, 6, 8])\n",
      "tensor-tensor: tensor([0, 0, 0, 0])\n",
      "tensor*tensor: tensor([ 1,  4,  9, 16])\n",
      "tensor/tensor: tensor([1., 1., 1., 1.])\n",
      "tensor+tensor: tensor([11, 12, 13, 14])\n"
     ]
    }
   ],
   "source": [
    "# Some common operations on tensors are addition, subtraction , multiplication, division, matrix multiplication\n",
    "op_tensor = torch.tensor([1,2,3,4])\n",
    "op_tensor_2 = torch.tensor([2,3,4,5])\n",
    "print(\"tensor+tensor:\",op_tensor+op_tensor)\n",
    "print(\"tensor-tensor:\",op_tensor-op_tensor)\n",
    "print(\"tensor*tensor:\",op_tensor*op_tensor)\n",
    "print(\"tensor/tensor:\",op_tensor/op_tensor)\n",
    "print(\"tensor+tensor:\",torch.add(op_tensor, op_tensor))\n",
    "print(\"tensor-tensor:\",torch.sub(op_tensor, op_tensor))\n",
    "print(\"tensor*tensor:\",torch.mul(op_tensor, op_tensor))\n",
    "print(\"tensor/tensor:\",torch.div(op_tensor, op_tensor))\n",
    "print(\"tensor+tensor:\",torch.add(op_tensor, 10))"
   ]
  },
  {
   "cell_type": "markdown",
   "metadata": {},
   "source": [
    "# Matrix Multiplication"
   ]
  },
  {
   "cell_type": "code",
   "execution_count": 22,
   "metadata": {},
   "outputs": [
    {
     "name": "stdout",
     "output_type": "stream",
     "text": [
      "Matrix multipliction: tensor(30)\n",
      "Matrix multipliction: 4\n"
     ]
    }
   ],
   "source": [
    "mat_mul_ans = torch.matmul(op_tensor,torch.transpose(op_tensor,0,0))\n",
    "print(\"Matrix multipliction:\", mat_mul_ans)\n",
    "print(\"Matrix multipliction:\", len(op_tensor))"
   ]
  },
  {
   "cell_type": "code",
   "execution_count": 3,
   "metadata": {},
   "outputs": [
    {
     "name": "stdout",
     "output_type": "stream",
     "text": [
      "tensor(30)\n",
      "CPU times: total: 0 ns\n",
      "Wall time: 2.52 ms\n"
     ]
    }
   ],
   "source": [
    "%%time\n",
    "val=0\n",
    "for i in range (4):\n",
    "    val += op_tensor[i] * op_tensor[i]\n",
    "\n",
    "print(val)"
   ]
  },
  {
   "cell_type": "code",
   "execution_count": 20,
   "metadata": {},
   "outputs": [
    {
     "name": "stdout",
     "output_type": "stream",
     "text": [
      "torch.float32\n",
      "Pro1: tensor(30)\n",
      "Pro2: tensor(30)\n",
      "Pro3: tensor([[1.7540, 1.3676, 1.1536],\n",
      "        [3.6681, 3.0129, 3.0447],\n",
      "        [5.5821, 4.6582, 4.9359]])\n",
      "CPU times: total: 0 ns\n",
      "Wall time: 38.6 ms\n"
     ]
    }
   ],
   "source": [
    "%%time\n",
    "matrix2 = torch.rand(2,3)\n",
    "print(matrix2.dtype)\n",
    "pro1 = torch.matmul(op_tensor, op_tensor) #torch's matrix multiplication method (see that it is faster than our loop implementation)\n",
    "pro2 = op_tensor @ op_tensor # Another way to write matrix multiplication operation\n",
    "pro3 = torch.mm(matrix, matrix2) # Another way to write matrix multiplication operation\n",
    "print(\"Pro1:\", pro1)\n",
    "print(\"Pro2:\", pro2)\n",
    "print(\"Pro3:\", pro3)"
   ]
  },
  {
   "cell_type": "markdown",
   "metadata": {},
   "source": [
    "# Transpose"
   ]
  },
  {
   "cell_type": "code",
   "execution_count": 23,
   "metadata": {},
   "outputs": [
    {
     "name": "stdout",
     "output_type": "stream",
     "text": [
      "Shape of tensor 1: torch.Size([3, 2])\n",
      "Shape of tensor 2: torch.Size([2, 3])\n"
     ]
    }
   ],
   "source": [
    "tensor_1 = torch.tensor([[1,2],[3,4],[5,6]])\n",
    "print(\"Shape of tensor 1:\", tensor_1.shape)\n",
    "tensor_2 = tensor_1.T  #Used to find the transpose of a tensor\n",
    "print(\"Shape of tensor 2:\", tensor_2.shape)\n"
   ]
  },
  {
   "cell_type": "code",
   "execution_count": null,
   "metadata": {},
   "outputs": [],
   "source": []
  }
 ],
 "metadata": {
  "kernelspec": {
   "display_name": "base",
   "language": "python",
   "name": "python3"
  },
  "language_info": {
   "codemirror_mode": {
    "name": "ipython",
    "version": 3
   },
   "file_extension": ".py",
   "mimetype": "text/x-python",
   "name": "python",
   "nbconvert_exporter": "python",
   "pygments_lexer": "ipython3",
   "version": "3.9.7"
  }
 },
 "nbformat": 4,
 "nbformat_minor": 2
}
