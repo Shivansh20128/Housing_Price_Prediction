{
 "cells": [
  {
   "cell_type": "code",
   "execution_count": 1,
   "metadata": {},
   "outputs": [
    {
     "name": "stdout",
     "output_type": "stream",
     "text": [
      "2.1.2+cu118\n"
     ]
    }
   ],
   "source": [
    "import torch\n",
    "print(torch.__version__)"
   ]
  },
  {
   "cell_type": "markdown",
   "metadata": {},
   "source": [
    "## Tensors\n",
    "Various dimensions of tensors using pytorch"
   ]
  },
  {
   "cell_type": "code",
   "execution_count": 2,
   "metadata": {},
   "outputs": [
    {
     "data": {
      "text/plain": [
       "tensor(4)"
      ]
     },
     "execution_count": 2,
     "metadata": {},
     "output_type": "execute_result"
    }
   ],
   "source": [
    "# Scalar\n",
    "scalar = torch.tensor(4)\n",
    "scalar"
   ]
  },
  {
   "cell_type": "code",
   "execution_count": 3,
   "metadata": {},
   "outputs": [
    {
     "name": "stdout",
     "output_type": "stream",
     "text": [
      "dimensions: 0\n",
      "size: torch.Size([])\n",
      "Value: 4\n"
     ]
    }
   ],
   "source": [
    "print(\"dimensions:\", scalar.ndim)\n",
    "print(\"size:\", scalar.shape)\n",
    "print(\"Value:\", scalar.item())\n"
   ]
  },
  {
   "cell_type": "code",
   "execution_count": 4,
   "metadata": {},
   "outputs": [
    {
     "data": {
      "text/plain": [
       "tensor([1, 2])"
      ]
     },
     "execution_count": 4,
     "metadata": {},
     "output_type": "execute_result"
    }
   ],
   "source": [
    "#vector\n",
    "vector = torch.tensor([1,2])\n",
    "vector"
   ]
  },
  {
   "cell_type": "code",
   "execution_count": 5,
   "metadata": {},
   "outputs": [
    {
     "name": "stdout",
     "output_type": "stream",
     "text": [
      "dimensions: 1\n",
      "size: torch.Size([2])\n",
      "Value: tensor(1)\n"
     ]
    }
   ],
   "source": [
    "print(\"dimensions:\", vector.ndim)\n",
    "print(\"size:\", vector.shape)\n",
    "print(\"Value:\", vector[0])"
   ]
  },
  {
   "cell_type": "code",
   "execution_count": 6,
   "metadata": {},
   "outputs": [
    {
     "data": {
      "text/plain": [
       "tensor([[1, 2],\n",
       "        [3, 4],\n",
       "        [5, 6]])"
      ]
     },
     "execution_count": 6,
     "metadata": {},
     "output_type": "execute_result"
    }
   ],
   "source": [
    "#Matrix\n",
    "matrix = torch.tensor([[1,2],[3,4],[5,6]])\n",
    "matrix"
   ]
  },
  {
   "cell_type": "code",
   "execution_count": 7,
   "metadata": {},
   "outputs": [
    {
     "name": "stdout",
     "output_type": "stream",
     "text": [
      "dimensions: 2\n",
      "size: torch.Size([3, 2])\n",
      "Value: tensor([3, 4])\n"
     ]
    }
   ],
   "source": [
    "print(\"dimensions:\", matrix.ndim)\n",
    "print(\"size:\", matrix.shape)\n",
    "print(\"Value:\", matrix[1])"
   ]
  },
  {
   "cell_type": "code",
   "execution_count": 8,
   "metadata": {},
   "outputs": [
    {
     "data": {
      "text/plain": [
       "tensor([[[1, 2],\n",
       "         [2, 3],\n",
       "         [3, 4]],\n",
       "\n",
       "        [[4, 5],\n",
       "         [5, 6],\n",
       "         [6, 7]],\n",
       "\n",
       "        [[4, 5],\n",
       "         [5, 6],\n",
       "         [6, 7]],\n",
       "\n",
       "        [[4, 5],\n",
       "         [5, 6],\n",
       "         [6, 7]]])"
      ]
     },
     "execution_count": 8,
     "metadata": {},
     "output_type": "execute_result"
    }
   ],
   "source": [
    "#3d matrix\n",
    "matrix_3d = torch.tensor([[[1,2],[2,3],[3,4]],[[4,5],[5,6],[6,7]],[[4,5],[5,6],[6,7]],[[4,5],[5,6],[6,7]]])\n",
    "matrix_3d"
   ]
  },
  {
   "cell_type": "code",
   "execution_count": 9,
   "metadata": {},
   "outputs": [
    {
     "name": "stdout",
     "output_type": "stream",
     "text": [
      "dimensions: 3\n",
      "size: torch.Size([4, 3, 2])\n",
      "Value: tensor([[4, 5],\n",
      "        [5, 6],\n",
      "        [6, 7]])\n"
     ]
    }
   ],
   "source": [
    "print(\"dimensions:\", matrix_3d.ndim)\n",
    "print(\"size:\", matrix_3d.shape)\n",
    "print(\"Value:\", matrix_3d[1])"
   ]
  },
  {
   "cell_type": "markdown",
   "metadata": {},
   "source": [
    "# Random Tensors"
   ]
  },
  {
   "cell_type": "code",
   "execution_count": 12,
   "metadata": {},
   "outputs": [
    {
     "data": {
      "text/plain": [
       "tensor([[[[0.9197, 0.6925, 0.3928],\n",
       "          [0.2429, 0.1494, 0.1132],\n",
       "          [0.0295, 0.1503, 0.5560]],\n",
       "\n",
       "         [[0.3368, 0.1359, 0.7082],\n",
       "          [0.4034, 0.6833, 0.4847],\n",
       "          [0.8790, 0.9520, 0.6641]],\n",
       "\n",
       "         [[0.1490, 0.4952, 0.4489],\n",
       "          [0.2535, 0.1847, 0.1700],\n",
       "          [0.2119, 0.7212, 0.3021]]],\n",
       "\n",
       "\n",
       "        [[[0.2734, 0.5570, 0.7667],\n",
       "          [0.8384, 0.6693, 0.3344],\n",
       "          [0.4358, 0.1174, 0.9223]],\n",
       "\n",
       "         [[0.4954, 0.8565, 0.0323],\n",
       "          [0.0863, 0.8493, 0.0386],\n",
       "          [0.9414, 0.5428, 0.6765]],\n",
       "\n",
       "         [[0.2463, 0.8940, 0.8557],\n",
       "          [0.5734, 0.8148, 0.7181],\n",
       "          [0.9427, 0.5196, 0.6522]]],\n",
       "\n",
       "\n",
       "        [[[0.6460, 0.3417, 0.2542],\n",
       "          [0.7579, 0.1176, 0.0141],\n",
       "          [0.6947, 0.1924, 0.5316]],\n",
       "\n",
       "         [[0.1427, 0.2675, 0.9704],\n",
       "          [0.7334, 0.3873, 0.5585],\n",
       "          [0.2653, 0.7110, 0.3791]],\n",
       "\n",
       "         [[0.4232, 0.2012, 0.9715],\n",
       "          [0.1474, 0.4884, 0.4639],\n",
       "          [0.2505, 0.8988, 0.0242]]],\n",
       "\n",
       "\n",
       "        [[[0.6510, 0.6689, 0.6704],\n",
       "          [0.9069, 0.1992, 0.6645],\n",
       "          [0.9412, 0.6510, 0.1445]],\n",
       "\n",
       "         [[0.8151, 0.2575, 0.5014],\n",
       "          [0.4068, 0.1731, 0.5850],\n",
       "          [0.0860, 0.4076, 0.4019]],\n",
       "\n",
       "         [[0.4189, 0.7319, 0.4154],\n",
       "          [0.7400, 0.7412, 0.1901],\n",
       "          [0.3913, 0.9894, 0.4406]]]])"
      ]
     },
     "execution_count": 12,
     "metadata": {},
     "output_type": "execute_result"
    }
   ],
   "source": [
    "random_tensor = torch.rand(4,3,3,3)\n",
    "random_tensor"
   ]
  },
  {
   "cell_type": "code",
   "execution_count": 13,
   "metadata": {},
   "outputs": [
    {
     "name": "stdout",
     "output_type": "stream",
     "text": [
      "dimensions: 4\n",
      "size: torch.Size([4, 3, 3, 3])\n",
      "Value: tensor([[[0.2734, 0.5570, 0.7667],\n",
      "         [0.8384, 0.6693, 0.3344],\n",
      "         [0.4358, 0.1174, 0.9223]],\n",
      "\n",
      "        [[0.4954, 0.8565, 0.0323],\n",
      "         [0.0863, 0.8493, 0.0386],\n",
      "         [0.9414, 0.5428, 0.6765]],\n",
      "\n",
      "        [[0.2463, 0.8940, 0.8557],\n",
      "         [0.5734, 0.8148, 0.7181],\n",
      "         [0.9427, 0.5196, 0.6522]]])\n"
     ]
    }
   ],
   "source": [
    "print(\"dimensions:\", random_tensor.ndim)\n",
    "print(\"size:\", random_tensor.shape)\n",
    "print(\"Value:\", random_tensor[1])"
   ]
  },
  {
   "cell_type": "code",
   "execution_count": null,
   "metadata": {},
   "outputs": [],
   "source": []
  }
 ],
 "metadata": {
  "kernelspec": {
   "display_name": "base",
   "language": "python",
   "name": "python3"
  },
  "language_info": {
   "codemirror_mode": {
    "name": "ipython",
    "version": 3
   },
   "file_extension": ".py",
   "mimetype": "text/x-python",
   "name": "python",
   "nbconvert_exporter": "python",
   "pygments_lexer": "ipython3",
   "version": "3.9.7"
  }
 },
 "nbformat": 4,
 "nbformat_minor": 2
}
